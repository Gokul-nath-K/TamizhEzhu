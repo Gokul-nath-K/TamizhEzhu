{
 "cells": [
  {
   "cell_type": "code",
   "execution_count": 1,
   "metadata": {},
   "outputs": [],
   "source": [
    "import torch\n",
    "import numpy as np\n",
    "import torchvision\n",
    "from torchvision import datasets, models, transforms\n",
    "import matplotlib.pyplot as plt\n",
    "import os\n",
    "from PIL import Image, ImageOps\n",
    "\n",
    "plt.ion()"
   ]
  },
  {
   "cell_type": "code",
   "execution_count": null,
   "metadata": {},
   "outputs": [],
   "source": [
    "class Invert(object):\n",
    "    def __call__(self, img):\n",
    "        converted = img.convert(\"L\")\n",
    "        inverted = ImageOps.converted(img)\n",
    "        return inverted"
   ]
  },
  {
   "cell_type": "code",
   "execution_count": 6,
   "metadata": {},
   "outputs": [],
   "source": [
    "class IWFHR(Dataset):\n",
    "    train_list = [\"train\", \"train_labels\"]\n",
    "    test_list = [\"test\", \"test_labels\"]\n",
    "    \n",
    "    def __init__(self, root, train=True):\n",
    "        self.train = train\n",
    "        \n",
    "        if self.train:\n",
    "            self.data = np.load(os.path.join(root, \"train.npy\"))\n",
    "            self.labels = np.load(os.path.join(root, \"train_labels.npy\"))\n",
    "        else:\n",
    "            self.data = np.load(os.path.join(root, \"test.npy\"))\n",
    "            self.labels = np.load(os.path.join(root, \"test.npy\"))\n",
    "    \n",
    "    def __len__(self):\n",
    "        return len(self.data)\n",
    "    \n",
    "    def __getitem__(self, index):\n",
    "        array = self.data[index]\n",
    "        img = Image.fromarray(array)\n",
    "        label = self.labels[index]\n",
    "        return img, label"
   ]
  },
  {
   "cell_type": "code",
   "execution_count": 8,
   "metadata": {},
   "outputs": [
    {
     "data": {
      "text/plain": [
       "<Figure size 432x288 with 0 Axes>"
      ]
     },
     "metadata": {},
     "output_type": "display_data"
    }
   ],
   "source": [
    "train_dir = 'data/processed/train/'\n",
    "test_dir = 'data/processed/test/'\n",
    "train_set = "
   ]
  }
 ],
 "metadata": {
  "kernelspec": {
   "display_name": "Python 3",
   "language": "python",
   "name": "python3"
  },
  "language_info": {
   "codemirror_mode": {
    "name": "ipython",
    "version": 3
   },
   "file_extension": ".py",
   "mimetype": "text/x-python",
   "name": "python",
   "nbconvert_exporter": "python",
   "pygments_lexer": "ipython3",
   "version": "3.8.3"
  }
 },
 "nbformat": 4,
 "nbformat_minor": 4
}
